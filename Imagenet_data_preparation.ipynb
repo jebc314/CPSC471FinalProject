{
 "cells": [
  {
   "cell_type": "code",
   "execution_count": 1,
   "id": "bdc24005",
   "metadata": {},
   "outputs": [],
   "source": [
    "import json\n",
    "import urllib\n",
    "import os\n",
    "import tqdm\n",
    "\n",
    "from os import path"
   ]
  },
  {
   "cell_type": "markdown",
   "id": "96457176",
   "metadata": {},
   "source": [
    "# Download Imagenet subset and masks from ImageNetS50 challange\n",
    "\n",
    "Adjust paths below according your needs"
   ]
  },
  {
   "cell_type": "code",
   "execution_count": 2,
   "id": "f73ed775",
   "metadata": {},
   "outputs": [],
   "source": [
    "input_dir = \"C:\\\\Users\\\\jebcu\\\\Desktop\\\\CPSC471_Project\\\\input\"\n",
    "#Correct path to masks and input is crucial, setup depends on users download path of the masks\n",
    "masks_dir = input_dir + f'\\\\ImageNetS50\\\\train-semi-segmentation\\\\'\n",
    "images_dir = input_dir + \"\\\\images\""
   ]
  },
  {
   "cell_type": "code",
   "execution_count": 3,
   "id": "dafbee91",
   "metadata": {},
   "outputs": [],
   "source": [
    "with urllib.request.urlopen(\"https://s3.amazonaws.com/deep-learning-models/image-models/imagenet_class_index.json\") as url:\n",
    "    imagenet_classes_dict = json.load(url)\n",
    "with urllib.request.urlopen(\"https://raw.githubusercontent.com/LUSSeg/ImageNet-S/main/data/categories/ImageNetS_categories_im50.txt\") as url:\n",
    "    imagenetS50_ids_dict = {str(x).replace(\"b'\", \"\").replace(\"\\\\n'\", \"\").replace(\"'\",\"\"):i+1 for i, x in enumerate(url)}"
   ]
  },
  {
   "cell_type": "markdown",
   "id": "bc7b50be",
   "metadata": {},
   "source": [
    "## Download masks"
   ]
  },
  {
   "cell_type": "code",
   "execution_count": null,
   "id": "6908c5aa",
   "metadata": {
    "scrolled": false
   },
   "outputs": [],
   "source": [
    "!wget https://github.com/LUSSeg/ImageNet-S/releases/download/ImageNet-S/ImageNetS50-a0fe9d82231f9bc4787ee76e304dfa51.zip\n",
    "!rm -r {input_dir}/ImageNetS50    \n",
    "!unzip -qq ImageNetS50-a0fe9d82231f9bc4787ee76e304dfa51.zip -d {input_dir}\n",
    "!rm ImageNetS50-a0fe9d82231f9bc4787ee76e304dfa51.zip"
   ]
  },
  {
   "cell_type": "markdown",
   "id": "fee1da24",
   "metadata": {},
   "source": [
    "## Download ImageNet subset\n",
    "\n",
    "We will use kaggle API for that. Go to [dataset site](https://www.kaggle.com/c/imagenet-object-localization-challenge) via web browser, sign in and accept the competition rules first. It may take some time to download full data. We need to download only specific images, for which masks are available. Thus, we need to call th API for every image. Kaggle API error `429 - Too Many Requests` may occur when downloading all classes at once. We recommend downloading in 3 batches."
   ]
  },
  {
   "cell_type": "code",
   "execution_count": 4,
   "id": "fc2b0950",
   "metadata": {},
   "outputs": [],
   "source": [
    "from time import sleep\n",
    "import subprocess"
   ]
  },
  {
   "cell_type": "code",
   "execution_count": 5,
   "id": "0f08b303",
   "metadata": {},
   "outputs": [],
   "source": [
    "def download_class_images(class_id, masks_path):\n",
    "    full_path = path.join(masks_path, class_id)\n",
    "    kaggle_path = f\"/ILSVRC/Data/CLS-LOC/train/{class_id}/\"\n",
    "    for file_name in os.listdir(full_path):\n",
    "        file_name_jpeg = file_name[:-3] + 'JPEG'\n",
    "        subprocess.run(f\"kaggle competitions download -q -f {kaggle_path}{file_name_jpeg} -p {images_dir}/{class_id}/ -c imagenet-object-localization-challenge\".split(\" \"))\n",
    "        sleep(1)\n",
    "\n",
    "def download(start_idx, # \n",
    "             stop_idx):\n",
    "    skipped = []\n",
    "    classes = os.listdir(masks_dir)[start_idx:stop_idx]\n",
    "    for class_id in tqdm.tqdm(classes):\n",
    "        image_class_path = os.path.join(images_dir, class_id)\n",
    "        if os.path.exists(image_class_path) and len(os.listdir(image_class_path)) == 10:\n",
    "            skipped.append(class_id)\n",
    "            continue\n",
    "        download_class_images(class_id, masks_dir)\n",
    "    print(\"Full dirs: \" + str(len(skipped)))        "
   ]
  },
  {
   "cell_type": "code",
   "execution_count": 5,
   "id": "0cdc1de7",
   "metadata": {},
   "outputs": [
    {
     "name": "stderr",
     "output_type": "stream",
     "text": [
      " 56%|█████▌    | 10/18 [02:01<01:37, 12.14s/it]"
     ]
    },
    {
     "name": "stdout",
     "output_type": "stream",
     "text": [
      "429 - Too Many Requests - TooManyRequests\n",
      "429 - Too Many Requests - TooManyRequests\n",
      "429 - Too Many Requests - TooManyRequests\n",
      "^C\n",
      "429 - Too Many Requests - TooManyRequests\n"
     ]
    }
   ],
   "source": [
    "# download(0, 11)"
   ]
  },
  {
   "cell_type": "code",
   "execution_count": 8,
   "id": "a6f31389",
   "metadata": {},
   "outputs": [
    {
     "name": "stderr",
     "output_type": "stream",
     "text": [
      "  0%|          | 0/7 [00:00<?, ?it/s]"
     ]
    }
   ],
   "source": [
    "download(11, 18)"
   ]
  },
  {
   "cell_type": "code",
   "execution_count": null,
   "id": "4fe90ff0",
   "metadata": {},
   "outputs": [],
   "source": [
    "download(18, 27)"
   ]
  },
  {
   "cell_type": "code",
   "execution_count": null,
   "id": "94650a91",
   "metadata": {},
   "outputs": [],
   "source": [
    "download(27, 36)"
   ]
  },
  {
   "cell_type": "code",
   "execution_count": null,
   "id": "245e6ae5",
   "metadata": {},
   "outputs": [],
   "source": [
    "download(36, 45)"
   ]
  },
  {
   "cell_type": "code",
   "execution_count": null,
   "id": "f581feb9",
   "metadata": {},
   "outputs": [],
   "source": [
    "download(45, 50)"
   ]
  }
 ],
 "metadata": {
  "kernelspec": {
   "display_name": "Python 3 (ipykernel)",
   "language": "python",
   "name": "python3"
  },
  "language_info": {
   "codemirror_mode": {
    "name": "ipython",
    "version": 3
   },
   "file_extension": ".py",
   "mimetype": "text/x-python",
   "name": "python",
   "nbconvert_exporter": "python",
   "pygments_lexer": "ipython3",
   "version": "3.12.2"
  }
 },
 "nbformat": 4,
 "nbformat_minor": 5
}
