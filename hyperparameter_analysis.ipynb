{
 "cells": [
  {
   "cell_type": "code",
   "execution_count": 1,
   "metadata": {},
   "outputs": [],
   "source": [
    "import torch\n",
    "from EnsembleXAI.Metrics import accordance_precision, accordance_recall"
   ]
  },
  {
   "cell_type": "code",
   "execution_count": 2,
   "metadata": {},
   "outputs": [],
   "source": [
    "# Custom F1_score so that when precision and recall = 0 (F1 nan) that is just interpretted as zero \n",
    "# (throwing away the consideration of that point or making really bad -> just bad)\n",
    "def F1_score(\n",
    "        explanations: torch.Tensor, masks: torch.Tensor, threshold: float = 0.0\n",
    ") -> float:\n",
    "    acc_recall = accordance_recall(explanations, masks, threshold=threshold)\n",
    "    acc_prec = accordance_precision(explanations, masks, threshold=threshold)\n",
    "    values = 2 * (acc_recall * acc_prec) / (acc_recall + acc_prec)\n",
    "    values[values != values] = 0\n",
    "    value = torch.sum(values) / values.shape[0]\n",
    "    return value.item()"
   ]
  },
  {
   "cell_type": "code",
   "execution_count": 4,
   "metadata": {},
   "outputs": [],
   "source": [
    "ground_truth_masks = torch.load(\"ImageNet/ground_truth_masks.pt\").cuda()"
   ]
  },
  {
   "cell_type": "code",
   "execution_count": 5,
   "metadata": {},
   "outputs": [],
   "source": [
    "integrated_gradients = torch.load(\"Results/attributions_integrated_gradients_0.41_1714368472.568931.pt\").cuda()"
   ]
  },
  {
   "cell_type": "code",
   "execution_count": 6,
   "metadata": {},
   "outputs": [
    {
     "data": {
      "text/plain": [
       "0.40941235423088074"
      ]
     },
     "execution_count": 6,
     "metadata": {},
     "output_type": "execute_result"
    }
   ],
   "source": [
    "F1_score(integrated_gradients, ground_truth_masks)"
   ]
  },
  {
   "cell_type": "code",
   "execution_count": 7,
   "metadata": {},
   "outputs": [
    {
     "data": {
      "text/plain": [
       "0.5377201437950134"
      ]
     },
     "execution_count": 7,
     "metadata": {},
     "output_type": "execute_result"
    }
   ],
   "source": [
    "saliency = torch.load(\"Results/attributions_saliency_0.54_1714400644.2581055.pt\")\n",
    "F1_score(saliency, ground_truth_masks)"
   ]
  },
  {
   "cell_type": "code",
   "execution_count": 8,
   "metadata": {},
   "outputs": [
    {
     "data": {
      "text/plain": [
       "0.40826356410980225"
      ]
     },
     "execution_count": 8,
     "metadata": {},
     "output_type": "execute_result"
    }
   ],
   "source": [
    "gradient_shap = torch.load(\"Results/attributions_gradient_shap_0.41_1714400936.6504378.pt\")\n",
    "F1_score(gradient_shap, ground_truth_masks)"
   ]
  },
  {
   "cell_type": "code",
   "execution_count": 9,
   "metadata": {},
   "outputs": [
    {
     "data": {
      "text/plain": [
       "0.5439344644546509"
      ]
     },
     "execution_count": 9,
     "metadata": {},
     "output_type": "execute_result"
    }
   ],
   "source": [
    "lime = torch.load(\"Results/attributions_lime_0.54_1714402004.904838.pt\")\n",
    "F1_score(lime, ground_truth_masks)"
   ]
  },
  {
   "cell_type": "code",
   "execution_count": 14,
   "metadata": {},
   "outputs": [
    {
     "data": {
      "text/plain": [
       "0.46652284264564514"
      ]
     },
     "execution_count": 14,
     "metadata": {},
     "output_type": "execute_result"
    }
   ],
   "source": [
    "occulsion = torch.load(\"Results/attributions_occulsion_0.47_1714404377.9766824.pt\")\n",
    "F1_score(occulsion, ground_truth_masks)"
   ]
  },
  {
   "cell_type": "code",
   "execution_count": 18,
   "metadata": {},
   "outputs": [
    {
     "data": {
      "text/plain": [
       "0.5504565834999084"
      ]
     },
     "execution_count": 18,
     "metadata": {},
     "output_type": "execute_result"
    }
   ],
   "source": [
    "SVS = torch.load(\"Results/attributions_shapley_value_sampling_0.55_1714416655.5245132.pt\")\n",
    "F1_score(SVS, ground_truth_masks)"
   ]
  },
  {
   "cell_type": "code",
   "execution_count": 19,
   "metadata": {},
   "outputs": [
    {
     "data": {
      "text/plain": [
       "0.5002642273902893"
      ]
     },
     "execution_count": 19,
     "metadata": {},
     "output_type": "execute_result"
    }
   ],
   "source": [
    "fa = torch.load(\"Results/attributions_feature_ablation_0.50_1714419732.9062037.pt\")\n",
    "F1_score(fa, ground_truth_masks)"
   ]
  },
  {
   "cell_type": "code",
   "execution_count": 20,
   "metadata": {},
   "outputs": [
    {
     "data": {
      "text/plain": [
       "0.5163415670394897"
      ]
     },
     "execution_count": 20,
     "metadata": {},
     "output_type": "execute_result"
    }
   ],
   "source": [
    "ks = torch.load(\"Results/attributions_kernel_shap_0.52_1714421025.4944754.pt\")\n",
    "F1_score(ks, ground_truth_masks)"
   ]
  },
  {
   "cell_type": "code",
   "execution_count": 21,
   "metadata": {},
   "outputs": [
    {
     "data": {
      "text/plain": [
       "0.5377201437950134"
      ]
     },
     "execution_count": 21,
     "metadata": {},
     "output_type": "execute_result"
    }
   ],
   "source": [
    "nt = torch.load(\"Results/attributions_noise_tunnel_0.54_1714425519.9697309.pt\")\n",
    "F1_score(nt, ground_truth_masks)"
   ]
  },
  {
   "cell_type": "code",
   "execution_count": 22,
   "metadata": {},
   "outputs": [],
   "source": [
    "from EnsembleXAI.Ensemble import normEnsembleXAI\n",
    "from EnsembleXAI.Normalization import mean_var_normalize\n",
    "\n",
    "attributions = {\n",
    "    'attributions_ig': torch.load(\"Results/attributions_integrated_gradients_0.41_1714368472.568931.pt\"),\n",
    "    'attributions_s': torch.load(\"Results/attributions_saliency_0.54_1714400644.2581055.pt\"),\n",
    "    'attributions_gs': torch.load(\"Results/attributions_gradient_shap_0.41_1714400936.6504378.pt\"),\n",
    "    'attributions_gb': torch.load('ImageNet/attributions_gb.pt'),\n",
    "    'attributions_d': torch.load('ImageNet/attributions_d.pt'),\n",
    "    'attributions_ixg': torch.load('ImageNet/attributions_ixg.pt'),\n",
    "    'attributions_l': torch.load(\"Results/attributions_lime_0.54_1714402004.904838.pt\"),\n",
    "    'attributions_o': torch.load(\"Results/attributions_occulsion_0.47_1714404377.9766824.pt\"),\n",
    "    'attributions_svs': torch.load(\"Results/attributions_shapley_value_sampling_0.55_1714416655.5245132.pt\"),\n",
    "    'attributions_fa': torch.load(\"Results/attributions_feature_ablation_0.50_1714419732.9062037.pt\"),\n",
    "    'attributions_ks': torch.load(\"Results/attributions_kernel_shap_0.52_1714421025.4944754.pt\"),\n",
    "    'attributions_nt': torch.load(\"Results/attributions_noise_tunnel_0.54_1714425519.9697309.pt\"),\n",
    "}\n",
    "\n",
    "normalized_attributions = {attr: mean_var_normalize(attributions[attr]) for attr in attributions}\n",
    "\n",
    "explanations = torch.stack([normalized_attributions[attr] for attr in normalized_attributions], dim=1)\n",
    "\n",
    "agg = normEnsembleXAI(explanations.detach(), aggregating_func='avg')\n",
    "\n",
    "torch.save(agg, \"ImageNet/tuned_avg_agg.pt\")"
   ]
  },
  {
   "cell_type": "code",
   "execution_count": 23,
   "metadata": {},
   "outputs": [
    {
     "data": {
      "text/plain": [
       "0.5144526362419128"
      ]
     },
     "execution_count": 23,
     "metadata": {},
     "output_type": "execute_result"
    }
   ],
   "source": [
    "F1_score(agg, ground_truth_masks)"
   ]
  },
  {
   "cell_type": "code",
   "execution_count": 24,
   "metadata": {},
   "outputs": [
    {
     "data": {
      "text/plain": [
       "0.4830857217311859"
      ]
     },
     "execution_count": 24,
     "metadata": {},
     "output_type": "execute_result"
    }
   ],
   "source": [
    "F1_score(torch.load(\"ImageNet/agg.pt\"), ground_truth_masks)"
   ]
  },
  {
   "cell_type": "code",
   "execution_count": null,
   "metadata": {},
   "outputs": [],
   "source": []
  }
 ],
 "metadata": {
  "kernelspec": {
   "display_name": "cs471_project",
   "language": "python",
   "name": "python3"
  },
  "language_info": {
   "codemirror_mode": {
    "name": "ipython",
    "version": 3
   },
   "file_extension": ".py",
   "mimetype": "text/x-python",
   "name": "python",
   "nbconvert_exporter": "python",
   "pygments_lexer": "ipython3",
   "version": "3.12.2"
  }
 },
 "nbformat": 4,
 "nbformat_minor": 2
}
