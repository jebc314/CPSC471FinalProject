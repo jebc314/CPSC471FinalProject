{
 "cells": [
  {
   "cell_type": "code",
   "execution_count": 1,
   "metadata": {},
   "outputs": [],
   "source": [
    "import os\n",
    "import shutil\n",
    "import tarfile"
   ]
  },
  {
   "cell_type": "code",
   "execution_count": 6,
   "metadata": {},
   "outputs": [],
   "source": [
    "classes = os.listdir(\"input\\\\ImageNetS50\\\\train-semi-segmentation\")\n",
    "files = []\n",
    "for cls in classes:\n",
    "    for file in os.listdir(f\"input\\\\ImageNetS50\\\\train-semi-segmentation\\\\{cls}\"):\n",
    "        files.append(f\"{cls}\\\\{file}\")"
   ]
  },
  {
   "cell_type": "code",
   "execution_count": 29,
   "metadata": {},
   "outputs": [],
   "source": [
    "set_files = set(files)"
   ]
  },
  {
   "cell_type": "code",
   "execution_count": 15,
   "metadata": {},
   "outputs": [],
   "source": [
    "for cls in classes:\n",
    "    if not os.path.exists(f\"input\\\\images\\\\{cls}\"):\n",
    "        shutil.copy(f\"ILSVRC2012_img_train\\\\{cls}.tar\", \"input\\\\images\")"
   ]
  },
  {
   "cell_type": "code",
   "execution_count": 52,
   "metadata": {},
   "outputs": [],
   "source": [
    "# loading the temp.zip and creating a zip object \n",
    "for cls in classes:\n",
    "    if os.path.exists(f\"input\\\\images\\\\{cls}\") and len(os.listdir(f\"input\\\\images\\\\{cls}\")) == 10:\n",
    "        continue\n",
    "    # os.mkdir(f\"input\\\\images\\\\{cls}\")\n",
    "    with tarfile.open(f\"input\\\\images\\\\{cls}.tar\") as tf:\n",
    "        for entry in tf:  # list each entry one by one\n",
    "            fileobj = tf.extractfile(entry)\n",
    "            if (f\"{cls}\\\\{entry.name}\"[:-4] + \"png\") not in set_files:\n",
    "                continue\n",
    "            with open(f\"input\\\\images\\\\{cls}\\\\{entry.name}\", \"wb\") as f:\n",
    "                f.write(fileobj.read())"
   ]
  },
  {
   "cell_type": "code",
   "execution_count": 57,
   "metadata": {},
   "outputs": [],
   "source": [
    "images = []\n",
    "for cls in os.listdir(\"input\\\\images\"):\n",
    "    for image in os.listdir(f\"input\\\\images\\\\{cls}\"):\n",
    "        images.append(f\"{cls}\\\\{image[:-4]}png\")"
   ]
  },
  {
   "cell_type": "code",
   "execution_count": 58,
   "metadata": {},
   "outputs": [
    {
     "data": {
      "text/plain": [
       "True"
      ]
     },
     "execution_count": 58,
     "metadata": {},
     "output_type": "execute_result"
    }
   ],
   "source": [
    "images == files"
   ]
  }
 ],
 "metadata": {
  "kernelspec": {
   "display_name": "cs471_project",
   "language": "python",
   "name": "python3"
  },
  "language_info": {
   "codemirror_mode": {
    "name": "ipython",
    "version": 3
   },
   "file_extension": ".py",
   "mimetype": "text/x-python",
   "name": "python",
   "nbconvert_exporter": "python",
   "pygments_lexer": "ipython3",
   "version": "3.12.2"
  }
 },
 "nbformat": 4,
 "nbformat_minor": 2
}
